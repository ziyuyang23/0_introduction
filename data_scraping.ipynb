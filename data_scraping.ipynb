{
 "cells": [
  {
   "cell_type": "code",
   "execution_count": 26,
   "id": "a46b348a",
   "metadata": {},
   "outputs": [],
   "source": [
    "import selenium \n",
    "from selenium import webdriver\n",
    "from selenium.webdriver.common.by import By\n",
    "from selenium.webdriver.common.keys import Keys\n",
    "from selenium.webdriver.support.ui import Select\n",
    "from selenium.webdriver.support.ui import WebDriverWait\n",
    "from selenium.webdriver.support import expected_conditions as EC\n",
    "from time import sleep\n",
    "import requests"
   ]
  },
  {
   "cell_type": "code",
   "execution_count": 3,
   "id": "572da651",
   "metadata": {},
   "outputs": [],
   "source": [
    "url=\"https://store.steampowered.com/\""
   ]
  },
  {
   "cell_type": "code",
   "execution_count": 21,
   "id": "fdbf34a7",
   "metadata": {},
   "outputs": [
    {
     "name": "stdout",
     "output_type": "stream",
     "text": [
      "['Friends vs Friends 友尽对决', '友尽高尔夫', \"Baldur's Gate 3\", \"Tom Clancy's Rainbow Six® Siege\", 'Warframe', '猛兽派对', 'Dota 2', '《上古卷轴®OL》', '命运2', 'Friends vs Friends: Deluxe Edition Content', 'Rust', 'Forza Motorsport 极限竞速', '遗迹2', 'Phasmophobia', 'Friends Rush', \"No Man's Sky\", 'Stardew Valley', 'PAYDAY3 (收获日3)', '房产达人', 'Sea of Thieves 2023 Edition', '沉没之地', 'Farming Simulator 22', 'Enshrouded', 'Friends vs Friends: Deluxe Edition', '小小梦魇3', \"Friends vs Friends: Baba's Laundromat\", 'Feudal Friends', '人间地狱', 'Total War: WARHAMMER III', \"Baldur's Gate 3 - Digital Deluxe Edition DLC\", 'Sons Of The Forest', 'BattleBit Remastered', 'Fallout 76', 'Friends vs Friends Soundtrack', '极限竞速：地平线 5', 'DayZ', 'Raft', '小小伙伴：汪星岛', 'Fluffy Friends', '坦克世界闪电战', 'The Front', 'MUSYNX - Forever Friends', 'Only Up: With Friends', '神力科莎 Assetto Corsa', '海狸浮生记 Timberborn', 'ARK: Survival Evolved', 'Ready or Not', 'Factorio', 'The friends of Ringo Ishikawa', 'World of Warships']\n",
      "['https://store.steampowered.com/app/1785150/Friends_vs_Friends/?snr=1_7_7_151_150_1', 'https://store.steampowered.com/app/431240/_/?snr=1_7_7_151_150_1', 'https://store.steampowered.com/app/1086940/Baldurs_Gate_3/?snr=1_7_7_151_150_1', 'https://store.steampowered.com/app/359550/Tom_Clancys_Rainbow_Six_Siege/?snr=1_7_7_151_150_1', 'https://store.steampowered.com/app/230410/Warframe/?snr=1_7_7_151_150_1', 'https://store.steampowered.com/app/1260320/_/?snr=1_7_7_151_150_1', 'https://store.steampowered.com/app/570/Dota_2/?snr=1_7_7_151_150_1', 'https://store.steampowered.com/app/306130/OL/?snr=1_7_7_151_150_1', 'https://store.steampowered.com/app/1085660/2/?snr=1_7_7_151_150_1', 'https://store.steampowered.com/app/2432020/Friends_vs_Friends_Deluxe_Edition_Content/?snr=1_7_7_151_150_1', 'https://store.steampowered.com/app/252490/Rust/?snr=1_7_7_151_150_1', 'https://store.steampowered.com/app/2440510/Forza_Motorsport/?snr=1_7_7_151_150_1', 'https://store.steampowered.com/app/1282100/2/?snr=1_7_7_151_150_1', 'https://store.steampowered.com/app/739630/Phasmophobia/?snr=1_7_7_151_150_1', 'https://store.steampowered.com/app/2361340/Friends_Rush/?snr=1_7_7_151_150_1', 'https://store.steampowered.com/app/275850/No_Mans_Sky/?snr=1_7_7_151_150_1', 'https://store.steampowered.com/app/413150/Stardew_Valley/?snr=1_7_7_151_150_1', 'https://store.steampowered.com/app/1272080/PAYDAY3_3/?snr=1_7_7_151_150_1', 'https://store.steampowered.com/app/613100/_/?snr=1_7_7_151_150_1', 'https://store.steampowered.com/app/1172620/Sea_of_Thieves_2023_Edition/?snr=1_7_7_151_150_1', 'https://store.steampowered.com/app/2080690/_/?snr=1_7_7_151_150_1', 'https://store.steampowered.com/app/1248130/Farming_Simulator_22/?snr=1_7_7_151_150_1', 'https://store.steampowered.com/app/1203620/Enshrouded/?snr=1_7_7_151_150_1', 'https://store.steampowered.com/bundle/32502/Friends_vs_Friends_Deluxe_Edition/?snr=1_7_7_151_150_1', 'https://store.steampowered.com/app/1392860/3/?snr=1_7_7_151_150_1', 'https://store.steampowered.com/app/2464010/Friends_vs_Friends_Babas_Laundromat/?snr=1_7_7_151_150_1', 'https://store.steampowered.com/app/2317820/Feudal_Friends/?snr=1_7_7_151_150_1', 'https://store.steampowered.com/app/686810/_/?snr=1_7_7_151_150_1', 'https://store.steampowered.com/app/1142710/Total_War_WARHAMMER_III/?snr=1_7_7_151_150_1', 'https://store.steampowered.com/app/2378500/Baldurs_Gate_3__Digital_Deluxe_Edition_DLC/?snr=1_7_7_151_150_1', 'https://store.steampowered.com/app/1326470/Sons_Of_The_Forest/?snr=1_7_7_151_150_1', 'https://store.steampowered.com/app/671860/BattleBit_Remastered/?snr=1_7_7_151_150_1', 'https://store.steampowered.com/app/1151340/Fallout_76/?snr=1_7_7_151_150_1', 'https://store.steampowered.com/app/2445730/Friends_vs_Friends_Soundtrack/?snr=1_7_7_151_150_1', 'https://store.steampowered.com/app/1551360/_5/?snr=1_7_7_151_150_1', 'https://store.steampowered.com/app/221100/DayZ/?snr=1_7_7_151_150_1', 'https://store.steampowered.com/app/648800/Raft/?snr=1_7_7_151_150_1', 'https://store.steampowered.com/app/2172900/_/?snr=1_7_7_151_150_1', 'https://store.steampowered.com/app/708300/Fluffy_Friends/?snr=1_7_7_151_150_1', 'https://store.steampowered.com/app/444200/_/?snr=1_7_7_151_150_1', 'https://store.steampowered.com/app/2285150/The_Front/?snr=1_7_7_151_150_1', 'https://store.steampowered.com/app/963060/MUSYNX__Forever_Friends/?snr=1_7_7_151_150_1', 'https://store.steampowered.com/app/2522520/Only_Up_With_Friends/?snr=1_7_7_151_150_1', 'https://store.steampowered.com/app/244210/_Assetto_Corsa/?snr=1_7_7_151_150_1', 'https://store.steampowered.com/app/1062090/_Timberborn/?snr=1_7_7_151_150_1', 'https://store.steampowered.com/app/346110/ARK_Survival_Evolved/?snr=1_7_7_151_150_1', 'https://store.steampowered.com/app/1144200/Ready_or_Not/?snr=1_7_7_151_150_1', 'https://store.steampowered.com/app/427520/Factorio/?snr=1_7_7_151_150_1', 'https://store.steampowered.com/app/846110/The_friends_of_Ringo_Ishikawa/?snr=1_7_7_151_150_1', 'https://store.steampowered.com/app/552990/World_of_Warships/?snr=1_7_7_151_150_1']\n"
     ]
    }
   ],
   "source": [
    "driver = webdriver.Chrome()\n",
    "driver.get(url)\n",
    "search_query = driver.find_element(\"name\",\"term\")\n",
    "\n",
    "search_query.send_keys('friends')\n",
    "search_query.send_keys(Keys.RETURN)\n",
    "sleep(5)\n",
    "\n",
    "search_results = driver.find_elements(\"xpath\",\"//a[@class='search_result_row ds_collapse_flag ']\")\n",
    "\n",
    "game_names = []\n",
    "game_links = []\n",
    "\n",
    "for result in search_results:\n",
    "    game_link = result.get_attribute(\"href\")\n",
    "    game_name = result.find_element(\"class name\",\"title\").text\n",
    "    \n",
    "    game_names.append(game_name)\n",
    "    game_links.append(game_link)\n",
    "    \n",
    "print( game_names)\n",
    "print( game_links)\n",
    "\n"
   ]
  },
  {
   "cell_type": "code",
   "execution_count": 22,
   "id": "6cb9f42c",
   "metadata": {},
   "outputs": [
    {
     "name": "stdout",
     "output_type": "stream",
     "text": [
      "https://store.steampowered.com/app/552990/World_of_Warships/?snr=1_7_7_151_150_1\n",
      "https://store.steampowered.com/app/552990/World_of_Warships/?snr=1_7_7_151_150_1\n",
      "https://store.steampowered.com/app/552990/World_of_Warships/?snr=1_7_7_151_150_1\n",
      "https://store.steampowered.com/app/552990/World_of_Warships/?snr=1_7_7_151_150_1\n",
      "https://store.steampowered.com/app/552990/World_of_Warships/?snr=1_7_7_151_150_1\n",
      "https://store.steampowered.com/app/552990/World_of_Warships/?snr=1_7_7_151_150_1\n",
      "https://store.steampowered.com/app/552990/World_of_Warships/?snr=1_7_7_151_150_1\n",
      "https://store.steampowered.com/app/552990/World_of_Warships/?snr=1_7_7_151_150_1\n",
      "https://store.steampowered.com/app/552990/World_of_Warships/?snr=1_7_7_151_150_1\n",
      "https://store.steampowered.com/app/552990/World_of_Warships/?snr=1_7_7_151_150_1\n",
      "https://store.steampowered.com/app/552990/World_of_Warships/?snr=1_7_7_151_150_1\n",
      "https://store.steampowered.com/app/552990/World_of_Warships/?snr=1_7_7_151_150_1\n",
      "https://store.steampowered.com/app/552990/World_of_Warships/?snr=1_7_7_151_150_1\n",
      "https://store.steampowered.com/app/552990/World_of_Warships/?snr=1_7_7_151_150_1\n",
      "https://store.steampowered.com/app/552990/World_of_Warships/?snr=1_7_7_151_150_1\n",
      "https://store.steampowered.com/app/552990/World_of_Warships/?snr=1_7_7_151_150_1\n",
      "https://store.steampowered.com/app/552990/World_of_Warships/?snr=1_7_7_151_150_1\n",
      "https://store.steampowered.com/app/552990/World_of_Warships/?snr=1_7_7_151_150_1\n",
      "https://store.steampowered.com/app/552990/World_of_Warships/?snr=1_7_7_151_150_1\n",
      "https://store.steampowered.com/app/552990/World_of_Warships/?snr=1_7_7_151_150_1\n",
      "https://store.steampowered.com/app/552990/World_of_Warships/?snr=1_7_7_151_150_1\n",
      "https://store.steampowered.com/app/552990/World_of_Warships/?snr=1_7_7_151_150_1\n",
      "https://store.steampowered.com/app/552990/World_of_Warships/?snr=1_7_7_151_150_1\n",
      "https://store.steampowered.com/app/552990/World_of_Warships/?snr=1_7_7_151_150_1\n",
      "https://store.steampowered.com/app/552990/World_of_Warships/?snr=1_7_7_151_150_1\n",
      "https://store.steampowered.com/app/552990/World_of_Warships/?snr=1_7_7_151_150_1\n",
      "https://store.steampowered.com/app/552990/World_of_Warships/?snr=1_7_7_151_150_1\n",
      "https://store.steampowered.com/app/552990/World_of_Warships/?snr=1_7_7_151_150_1\n",
      "https://store.steampowered.com/app/552990/World_of_Warships/?snr=1_7_7_151_150_1\n",
      "https://store.steampowered.com/app/552990/World_of_Warships/?snr=1_7_7_151_150_1\n",
      "https://store.steampowered.com/app/552990/World_of_Warships/?snr=1_7_7_151_150_1\n",
      "https://store.steampowered.com/app/552990/World_of_Warships/?snr=1_7_7_151_150_1\n",
      "https://store.steampowered.com/app/552990/World_of_Warships/?snr=1_7_7_151_150_1\n",
      "https://store.steampowered.com/app/552990/World_of_Warships/?snr=1_7_7_151_150_1\n",
      "https://store.steampowered.com/app/552990/World_of_Warships/?snr=1_7_7_151_150_1\n",
      "https://store.steampowered.com/app/552990/World_of_Warships/?snr=1_7_7_151_150_1\n",
      "https://store.steampowered.com/app/552990/World_of_Warships/?snr=1_7_7_151_150_1\n",
      "https://store.steampowered.com/app/552990/World_of_Warships/?snr=1_7_7_151_150_1\n",
      "https://store.steampowered.com/app/552990/World_of_Warships/?snr=1_7_7_151_150_1\n",
      "https://store.steampowered.com/app/552990/World_of_Warships/?snr=1_7_7_151_150_1\n",
      "https://store.steampowered.com/app/552990/World_of_Warships/?snr=1_7_7_151_150_1\n",
      "https://store.steampowered.com/app/552990/World_of_Warships/?snr=1_7_7_151_150_1\n",
      "https://store.steampowered.com/app/552990/World_of_Warships/?snr=1_7_7_151_150_1\n",
      "https://store.steampowered.com/app/552990/World_of_Warships/?snr=1_7_7_151_150_1\n",
      "https://store.steampowered.com/app/552990/World_of_Warships/?snr=1_7_7_151_150_1\n",
      "https://store.steampowered.com/app/552990/World_of_Warships/?snr=1_7_7_151_150_1\n",
      "https://store.steampowered.com/app/552990/World_of_Warships/?snr=1_7_7_151_150_1\n",
      "https://store.steampowered.com/app/552990/World_of_Warships/?snr=1_7_7_151_150_1\n",
      "https://store.steampowered.com/app/552990/World_of_Warships/?snr=1_7_7_151_150_1\n",
      "https://store.steampowered.com/app/552990/World_of_Warships/?snr=1_7_7_151_150_1\n"
     ]
    }
   ],
   "source": [
    "import csv \n",
    "        \n",
    "with open('steamlinks.csv', 'w',newline='') as csvfile: \n",
    "    writer = csv.writer(csvfile) \n",
    "    for link in game_links:\n",
    "        print(game_link)\n",
    "        writer.writerow([game_link])"
   ]
  },
  {
   "cell_type": "code",
   "execution_count": 30,
   "id": "cd3976d9",
   "metadata": {},
   "outputs": [
    {
     "ename": "NoSuchElementException",
     "evalue": "Message: no such element: Unable to locate element: {\"method\":\"xpath\",\"selector\":\"//a[@class='highlight_screenshot_link ']\"}\n  (Session info: chrome=117.0.5938.134); For documentation on this error, please visit: https://www.selenium.dev/documentation/webdriver/troubleshooting/errors#no-such-element-exception\nStacktrace:\n\tGetHandleVerifier [0x00007FF682B87D12+55474]\n\t(No symbol) [0x00007FF682AF77C2]\n\t(No symbol) [0x00007FF6829AE0EB]\n\t(No symbol) [0x00007FF6829EEBAC]\n\t(No symbol) [0x00007FF6829EED2C]\n\t(No symbol) [0x00007FF682A29F77]\n\t(No symbol) [0x00007FF682A0F19F]\n\t(No symbol) [0x00007FF682A27EF2]\n\t(No symbol) [0x00007FF682A0EF33]\n\t(No symbol) [0x00007FF6829E3D41]\n\t(No symbol) [0x00007FF6829E4F84]\n\tGetHandleVerifier [0x00007FF682EEB762+3609346]\n\tGetHandleVerifier [0x00007FF682F41A80+3962400]\n\tGetHandleVerifier [0x00007FF682F39F0F+3930799]\n\tGetHandleVerifier [0x00007FF682C23CA6+694342]\n\t(No symbol) [0x00007FF682B02218]\n\t(No symbol) [0x00007FF682AFE484]\n\t(No symbol) [0x00007FF682AFE5B2]\n\t(No symbol) [0x00007FF682AEEE13]\n\tBaseThreadInitThunk [0x00007FF90F7D257D+29]\n\tRtlUserThreadStart [0x00007FF910CAAA68+40]\n",
     "output_type": "error",
     "traceback": [
      "\u001b[1;31m---------------------------------------------------------------------------\u001b[0m",
      "\u001b[1;31mNoSuchElementException\u001b[0m                    Traceback (most recent call last)",
      "Cell \u001b[1;32mIn[30], line 16\u001b[0m\n\u001b[0;32m     13\u001b[0m sleep(\u001b[38;5;241m2\u001b[39m)\n\u001b[0;32m     15\u001b[0m \u001b[38;5;66;03m#find the image link\u001b[39;00m\n\u001b[1;32m---> 16\u001b[0m imglink \u001b[38;5;241m=\u001b[39m \u001b[43mdriver\u001b[49m\u001b[38;5;241;43m.\u001b[39;49m\u001b[43mfind_element\u001b[49m\u001b[43m(\u001b[49m\u001b[38;5;124;43m\"\u001b[39;49m\u001b[38;5;124;43mxpath\u001b[39;49m\u001b[38;5;124;43m\"\u001b[39;49m\u001b[43m,\u001b[49m\u001b[38;5;124;43m\"\u001b[39;49m\u001b[38;5;124;43m//a[@class=\u001b[39;49m\u001b[38;5;124;43m'\u001b[39;49m\u001b[38;5;124;43mhighlight_screenshot_link \u001b[39;49m\u001b[38;5;124;43m'\u001b[39;49m\u001b[38;5;124;43m]\u001b[39;49m\u001b[38;5;124;43m\"\u001b[39;49m\u001b[43m)\u001b[49m\n\u001b[0;32m     20\u001b[0m \u001b[38;5;28mprint\u001b[39m(imglink)\n\u001b[0;32m     21\u001b[0m i \u001b[38;5;241m+\u001b[39m\u001b[38;5;241m=\u001b[39m \u001b[38;5;241m1\u001b[39m    \n",
      "File \u001b[1;32mC:\\ProgramData\\anaconda3\\envs\\py38\\lib\\site-packages\\selenium\\webdriver\\remote\\webdriver.py:738\u001b[0m, in \u001b[0;36mWebDriver.find_element\u001b[1;34m(self, by, value)\u001b[0m\n\u001b[0;32m    735\u001b[0m     by \u001b[38;5;241m=\u001b[39m By\u001b[38;5;241m.\u001b[39mCSS_SELECTOR\n\u001b[0;32m    736\u001b[0m     value \u001b[38;5;241m=\u001b[39m \u001b[38;5;124mf\u001b[39m\u001b[38;5;124m'\u001b[39m\u001b[38;5;124m[name=\u001b[39m\u001b[38;5;124m\"\u001b[39m\u001b[38;5;132;01m{\u001b[39;00mvalue\u001b[38;5;132;01m}\u001b[39;00m\u001b[38;5;124m\"\u001b[39m\u001b[38;5;124m]\u001b[39m\u001b[38;5;124m'\u001b[39m\n\u001b[1;32m--> 738\u001b[0m \u001b[38;5;28;01mreturn\u001b[39;00m \u001b[38;5;28;43mself\u001b[39;49m\u001b[38;5;241;43m.\u001b[39;49m\u001b[43mexecute\u001b[49m\u001b[43m(\u001b[49m\u001b[43mCommand\u001b[49m\u001b[38;5;241;43m.\u001b[39;49m\u001b[43mFIND_ELEMENT\u001b[49m\u001b[43m,\u001b[49m\u001b[43m \u001b[49m\u001b[43m{\u001b[49m\u001b[38;5;124;43m\"\u001b[39;49m\u001b[38;5;124;43musing\u001b[39;49m\u001b[38;5;124;43m\"\u001b[39;49m\u001b[43m:\u001b[49m\u001b[43m \u001b[49m\u001b[43mby\u001b[49m\u001b[43m,\u001b[49m\u001b[43m \u001b[49m\u001b[38;5;124;43m\"\u001b[39;49m\u001b[38;5;124;43mvalue\u001b[39;49m\u001b[38;5;124;43m\"\u001b[39;49m\u001b[43m:\u001b[49m\u001b[43m \u001b[49m\u001b[43mvalue\u001b[49m\u001b[43m}\u001b[49m\u001b[43m)\u001b[49m[\u001b[38;5;124m\"\u001b[39m\u001b[38;5;124mvalue\u001b[39m\u001b[38;5;124m\"\u001b[39m]\n",
      "File \u001b[1;32mC:\\ProgramData\\anaconda3\\envs\\py38\\lib\\site-packages\\selenium\\webdriver\\remote\\webdriver.py:344\u001b[0m, in \u001b[0;36mWebDriver.execute\u001b[1;34m(self, driver_command, params)\u001b[0m\n\u001b[0;32m    342\u001b[0m response \u001b[38;5;241m=\u001b[39m \u001b[38;5;28mself\u001b[39m\u001b[38;5;241m.\u001b[39mcommand_executor\u001b[38;5;241m.\u001b[39mexecute(driver_command, params)\n\u001b[0;32m    343\u001b[0m \u001b[38;5;28;01mif\u001b[39;00m response:\n\u001b[1;32m--> 344\u001b[0m     \u001b[38;5;28;43mself\u001b[39;49m\u001b[38;5;241;43m.\u001b[39;49m\u001b[43merror_handler\u001b[49m\u001b[38;5;241;43m.\u001b[39;49m\u001b[43mcheck_response\u001b[49m\u001b[43m(\u001b[49m\u001b[43mresponse\u001b[49m\u001b[43m)\u001b[49m\n\u001b[0;32m    345\u001b[0m     response[\u001b[38;5;124m\"\u001b[39m\u001b[38;5;124mvalue\u001b[39m\u001b[38;5;124m\"\u001b[39m] \u001b[38;5;241m=\u001b[39m \u001b[38;5;28mself\u001b[39m\u001b[38;5;241m.\u001b[39m_unwrap_value(response\u001b[38;5;241m.\u001b[39mget(\u001b[38;5;124m\"\u001b[39m\u001b[38;5;124mvalue\u001b[39m\u001b[38;5;124m\"\u001b[39m, \u001b[38;5;28;01mNone\u001b[39;00m))\n\u001b[0;32m    346\u001b[0m     \u001b[38;5;28;01mreturn\u001b[39;00m response\n",
      "File \u001b[1;32mC:\\ProgramData\\anaconda3\\envs\\py38\\lib\\site-packages\\selenium\\webdriver\\remote\\errorhandler.py:229\u001b[0m, in \u001b[0;36mErrorHandler.check_response\u001b[1;34m(self, response)\u001b[0m\n\u001b[0;32m    227\u001b[0m         alert_text \u001b[38;5;241m=\u001b[39m value[\u001b[38;5;124m\"\u001b[39m\u001b[38;5;124malert\u001b[39m\u001b[38;5;124m\"\u001b[39m]\u001b[38;5;241m.\u001b[39mget(\u001b[38;5;124m\"\u001b[39m\u001b[38;5;124mtext\u001b[39m\u001b[38;5;124m\"\u001b[39m)\n\u001b[0;32m    228\u001b[0m     \u001b[38;5;28;01mraise\u001b[39;00m exception_class(message, screen, stacktrace, alert_text)  \u001b[38;5;66;03m# type: ignore[call-arg]  # mypy is not smart enough here\u001b[39;00m\n\u001b[1;32m--> 229\u001b[0m \u001b[38;5;28;01mraise\u001b[39;00m exception_class(message, screen, stacktrace)\n",
      "\u001b[1;31mNoSuchElementException\u001b[0m: Message: no such element: Unable to locate element: {\"method\":\"xpath\",\"selector\":\"//a[@class='highlight_screenshot_link ']\"}\n  (Session info: chrome=117.0.5938.134); For documentation on this error, please visit: https://www.selenium.dev/documentation/webdriver/troubleshooting/errors#no-such-element-exception\nStacktrace:\n\tGetHandleVerifier [0x00007FF682B87D12+55474]\n\t(No symbol) [0x00007FF682AF77C2]\n\t(No symbol) [0x00007FF6829AE0EB]\n\t(No symbol) [0x00007FF6829EEBAC]\n\t(No symbol) [0x00007FF6829EED2C]\n\t(No symbol) [0x00007FF682A29F77]\n\t(No symbol) [0x00007FF682A0F19F]\n\t(No symbol) [0x00007FF682A27EF2]\n\t(No symbol) [0x00007FF682A0EF33]\n\t(No symbol) [0x00007FF6829E3D41]\n\t(No symbol) [0x00007FF6829E4F84]\n\tGetHandleVerifier [0x00007FF682EEB762+3609346]\n\tGetHandleVerifier [0x00007FF682F41A80+3962400]\n\tGetHandleVerifier [0x00007FF682F39F0F+3930799]\n\tGetHandleVerifier [0x00007FF682C23CA6+694342]\n\t(No symbol) [0x00007FF682B02218]\n\t(No symbol) [0x00007FF682AFE484]\n\t(No symbol) [0x00007FF682AFE5B2]\n\t(No symbol) [0x00007FF682AEEE13]\n\tBaseThreadInitThunk [0x00007FF90F7D257D+29]\n\tRtlUserThreadStart [0x00007FF910CAAA68+40]\n"
     ]
    }
   ],
   "source": [
    "driver = webdriver.Chrome()\n",
    "\n",
    "\n",
    "i=0\n",
    "\n",
    "#read the produced csv and iterate through the list\n",
    "with open(\"steamlinks.csv\", 'r',encoding='utf-8') as file:\n",
    "    csvreader = csv.reader(file)    \n",
    "    for url in csvreader:       \n",
    "                \n",
    "        #open each link \n",
    "        driver.get(url[0])\n",
    "        sleep(2)\n",
    "        \n",
    "        #find the image link\n",
    "        imglink = driver.find_element(\"xpath\",\"//a[@class='highlight_screenshot_link ']\")\n",
    "\n",
    "        \n",
    "        \n",
    "        print(imglink)\n",
    "        i += 1    \n",
    "        \n",
    "        response = requests.get(imglink)\n",
    "        #name the images\n",
    "        imagename=\"image\" + str(i)+\".jpg\"\n",
    "        #save the images\n",
    "        with open(imagename, \"wb\") as f:\n",
    "            f.write(response.content)\n",
    "       \n",
    "    \n",
    "#Close the webpage\n",
    "driver.quit()"
   ]
  },
  {
   "cell_type": "code",
   "execution_count": null,
   "id": "e6fd694f",
   "metadata": {},
   "outputs": [],
   "source": []
  },
  {
   "cell_type": "code",
   "execution_count": null,
   "id": "5605e631",
   "metadata": {},
   "outputs": [],
   "source": [
    "\n",
    "    "
   ]
  },
  {
   "cell_type": "code",
   "execution_count": null,
   "id": "999223dc",
   "metadata": {},
   "outputs": [],
   "source": []
  },
  {
   "cell_type": "code",
   "execution_count": null,
   "id": "fbfb0995",
   "metadata": {},
   "outputs": [],
   "source": []
  }
 ],
 "metadata": {
  "kernelspec": {
   "display_name": "Python 3 (ipykernel)",
   "language": "python",
   "name": "python3"
  },
  "language_info": {
   "codemirror_mode": {
    "name": "ipython",
    "version": 3
   },
   "file_extension": ".py",
   "mimetype": "text/x-python",
   "name": "python",
   "nbconvert_exporter": "python",
   "pygments_lexer": "ipython3",
   "version": "3.8.18"
  }
 },
 "nbformat": 4,
 "nbformat_minor": 5
}
