{
 "cells": [
  {
   "cell_type": "code",
   "execution_count": 20,
   "id": "a46b348a",
   "metadata": {},
   "outputs": [],
   "source": [
    "import selenium \n",
    "from selenium import webdriver\n",
    "from selenium.webdriver.common.by import By\n",
    "from selenium.webdriver.common.keys import Keys\n",
    "from selenium.webdriver.support.ui import Select\n",
    "from selenium.webdriver.support.ui import WebDriverWait\n",
    "from selenium.webdriver.support import expected_conditions as EC\n",
    "from time import sleep\n",
    "import requests"
   ]
  },
  {
   "cell_type": "code",
   "execution_count": 21,
   "id": "572da651",
   "metadata": {},
   "outputs": [],
   "source": [
    "url=\"https://store.steampowered.com/\""
   ]
  },
  {
   "cell_type": "code",
   "execution_count": 22,
   "id": "fdbf34a7",
   "metadata": {},
   "outputs": [
    {
     "name": "stdout",
     "output_type": "stream",
     "text": [
      "['Friends vs Friends 友尽对决', '友尽高尔夫', \"Baldur's Gate 3\", 'Dota 2', \"Tom Clancy's Rainbow Six® Siege\", 'Forza Motorsport 极限竞速', 'Warframe', '猛兽派对', '命运2', 'Rust', '《上古卷轴®OL》', 'Friends vs Friends: Deluxe Edition Content', 'Friends Rush', '遗迹2', \"No Man's Sky\", 'Phasmophobia', 'Stardew Valley', '房产达人', '沉没之地', 'Sea of Thieves 2023 Edition', 'Friends vs Friends: Deluxe Edition', 'Enshrouded', 'Farming Simulator 22', 'Sons Of The Forest', \"Friends vs Friends: Baba's Laundromat\", '小小梦魇3', 'Total War: WARHAMMER III', 'Feudal Friends', '人间地狱', 'DayZ', \"Baldur's Gate 3 - Digital Deluxe Edition DLC\", 'BattleBit Remastered', '小小伙伴：汪星岛', '极限竞速：地平线 5', 'Fluffy Friends', 'Friends vs Friends Soundtrack', 'Raft', 'Ready or Not', 'World of Warships', 'ARK: Survival Evolved', '海狸浮生记 Timberborn', 'The Front', '神力科莎 Assetto Corsa', 'MUSYNX - Forever Friends', '《猎人：荒野的召唤™》', \"Tom Clancy's Ghost Recon® Breakpoint\", 'The friends of Ringo Ishikawa', '坦克世界闪电战', 'Only Up: With Friends', 'Indie Friends Pack']\n",
      "['https://store.steampowered.com/app/1785150/Friends_vs_Friends/?snr=1_7_7_151_150_1', 'https://store.steampowered.com/app/431240/_/?snr=1_7_7_151_150_1', 'https://store.steampowered.com/app/1086940/Baldurs_Gate_3/?snr=1_7_7_151_150_1', 'https://store.steampowered.com/app/570/Dota_2/?snr=1_7_7_151_150_1', 'https://store.steampowered.com/app/359550/Tom_Clancys_Rainbow_Six_Siege/?snr=1_7_7_151_150_1', 'https://store.steampowered.com/app/2440510/Forza_Motorsport/?snr=1_7_7_151_150_1', 'https://store.steampowered.com/app/230410/Warframe/?snr=1_7_7_151_150_1', 'https://store.steampowered.com/app/1260320/_/?snr=1_7_7_151_150_1', 'https://store.steampowered.com/app/1085660/2/?snr=1_7_7_151_150_1', 'https://store.steampowered.com/app/252490/Rust/?snr=1_7_7_151_150_1', 'https://store.steampowered.com/app/306130/OL/?snr=1_7_7_151_150_1', 'https://store.steampowered.com/app/2432020/Friends_vs_Friends_Deluxe_Edition_Content/?snr=1_7_7_151_150_1', 'https://store.steampowered.com/app/2361340/Friends_Rush/?snr=1_7_7_151_150_1', 'https://store.steampowered.com/app/1282100/2/?snr=1_7_7_151_150_1', 'https://store.steampowered.com/app/275850/No_Mans_Sky/?snr=1_7_7_151_150_1', 'https://store.steampowered.com/app/739630/Phasmophobia/?snr=1_7_7_151_150_1', 'https://store.steampowered.com/app/413150/Stardew_Valley/?snr=1_7_7_151_150_1', 'https://store.steampowered.com/app/613100/_/?snr=1_7_7_151_150_1', 'https://store.steampowered.com/app/2080690/_/?snr=1_7_7_151_150_1', 'https://store.steampowered.com/app/1172620/Sea_of_Thieves_2023_Edition/?snr=1_7_7_151_150_1', 'https://store.steampowered.com/bundle/32502/Friends_vs_Friends_Deluxe_Edition/?snr=1_7_7_151_150_1', 'https://store.steampowered.com/app/1203620/Enshrouded/?snr=1_7_7_151_150_1', 'https://store.steampowered.com/app/1248130/Farming_Simulator_22/?snr=1_7_7_151_150_1', 'https://store.steampowered.com/app/1326470/Sons_Of_The_Forest/?snr=1_7_7_151_150_1', 'https://store.steampowered.com/app/2464010/Friends_vs_Friends_Babas_Laundromat/?snr=1_7_7_151_150_1', 'https://store.steampowered.com/app/1392860/3/?snr=1_7_7_151_150_1', 'https://store.steampowered.com/app/1142710/Total_War_WARHAMMER_III/?snr=1_7_7_151_150_1', 'https://store.steampowered.com/app/2317820/Feudal_Friends/?snr=1_7_7_151_150_1', 'https://store.steampowered.com/app/686810/_/?snr=1_7_7_151_150_1', 'https://store.steampowered.com/app/221100/DayZ/?snr=1_7_7_151_150_1', 'https://store.steampowered.com/app/2378500/Baldurs_Gate_3__Digital_Deluxe_Edition_DLC/?snr=1_7_7_151_150_1', 'https://store.steampowered.com/app/671860/BattleBit_Remastered/?snr=1_7_7_151_150_1', 'https://store.steampowered.com/app/2172900/_/?snr=1_7_7_151_150_1', 'https://store.steampowered.com/app/1551360/_5/?snr=1_7_7_151_150_1', 'https://store.steampowered.com/app/708300/Fluffy_Friends/?snr=1_7_7_151_150_1', 'https://store.steampowered.com/app/2445730/Friends_vs_Friends_Soundtrack/?snr=1_7_7_151_150_1', 'https://store.steampowered.com/app/648800/Raft/?snr=1_7_7_151_150_1', 'https://store.steampowered.com/app/1144200/Ready_or_Not/?snr=1_7_7_151_150_1', 'https://store.steampowered.com/app/552990/World_of_Warships/?snr=1_7_7_151_150_1', 'https://store.steampowered.com/app/346110/ARK_Survival_Evolved/?snr=1_7_7_151_150_1', 'https://store.steampowered.com/app/1062090/_Timberborn/?snr=1_7_7_151_150_1', 'https://store.steampowered.com/app/2285150/The_Front/?snr=1_7_7_151_150_1', 'https://store.steampowered.com/app/244210/_Assetto_Corsa/?snr=1_7_7_151_150_1', 'https://store.steampowered.com/app/963060/MUSYNX__Forever_Friends/?snr=1_7_7_151_150_1', 'https://store.steampowered.com/app/518790/_/?snr=1_7_7_151_150_1', 'https://store.steampowered.com/app/2231380/Tom_Clancys_Ghost_Recon_Breakpoint/?snr=1_7_7_151_150_1', 'https://store.steampowered.com/app/846110/The_friends_of_Ringo_Ishikawa/?snr=1_7_7_151_150_1', 'https://store.steampowered.com/app/444200/_/?snr=1_7_7_151_150_1', 'https://store.steampowered.com/app/2522520/Only_Up_With_Friends/?snr=1_7_7_151_150_1', 'https://store.steampowered.com/app/667750/Indie_Friends_Pack/?snr=1_7_7_151_150_1']\n"
     ]
    }
   ],
   "source": [
    "driver = webdriver.Chrome()\n",
    "driver.get(url)\n",
    "search_query = driver.find_element(\"name\",\"term\")\n",
    "\n",
    "search_query.send_keys('friends')\n",
    "search_query.send_keys(Keys.RETURN)\n",
    "sleep(5)\n",
    "\n",
    "search_results = driver.find_elements(\"xpath\",\"//a[@class='search_result_row ds_collapse_flag ']\")\n",
    "\n",
    "game_names = []\n",
    "game_links = []\n",
    "\n",
    "for result in search_results:\n",
    "    game_link = result.get_attribute(\"href\")\n",
    "    game_name = result.find_element(\"class name\",\"title\").text\n",
    "    \n",
    "    game_names.append(game_name)\n",
    "    game_links.append(game_link)\n",
    "    \n",
    "print( game_names)\n",
    "print( game_links)\n",
    "\n"
   ]
  },
  {
   "cell_type": "code",
   "execution_count": 26,
   "id": "6cb9f42c",
   "metadata": {},
   "outputs": [
    {
     "name": "stdout",
     "output_type": "stream",
     "text": [
      "https://store.steampowered.com/app/1785150/Friends_vs_Friends/?snr=1_7_7_151_150_1\n",
      "https://store.steampowered.com/app/431240/_/?snr=1_7_7_151_150_1\n",
      "https://store.steampowered.com/app/1086940/Baldurs_Gate_3/?snr=1_7_7_151_150_1\n",
      "https://store.steampowered.com/app/570/Dota_2/?snr=1_7_7_151_150_1\n",
      "https://store.steampowered.com/app/359550/Tom_Clancys_Rainbow_Six_Siege/?snr=1_7_7_151_150_1\n",
      "https://store.steampowered.com/app/2440510/Forza_Motorsport/?snr=1_7_7_151_150_1\n",
      "https://store.steampowered.com/app/230410/Warframe/?snr=1_7_7_151_150_1\n",
      "https://store.steampowered.com/app/1260320/_/?snr=1_7_7_151_150_1\n",
      "https://store.steampowered.com/app/1085660/2/?snr=1_7_7_151_150_1\n",
      "https://store.steampowered.com/app/252490/Rust/?snr=1_7_7_151_150_1\n",
      "https://store.steampowered.com/app/306130/OL/?snr=1_7_7_151_150_1\n",
      "https://store.steampowered.com/app/2432020/Friends_vs_Friends_Deluxe_Edition_Content/?snr=1_7_7_151_150_1\n",
      "https://store.steampowered.com/app/2361340/Friends_Rush/?snr=1_7_7_151_150_1\n",
      "https://store.steampowered.com/app/1282100/2/?snr=1_7_7_151_150_1\n",
      "https://store.steampowered.com/app/275850/No_Mans_Sky/?snr=1_7_7_151_150_1\n",
      "https://store.steampowered.com/app/739630/Phasmophobia/?snr=1_7_7_151_150_1\n",
      "https://store.steampowered.com/app/413150/Stardew_Valley/?snr=1_7_7_151_150_1\n",
      "https://store.steampowered.com/app/613100/_/?snr=1_7_7_151_150_1\n",
      "https://store.steampowered.com/app/2080690/_/?snr=1_7_7_151_150_1\n",
      "https://store.steampowered.com/app/1172620/Sea_of_Thieves_2023_Edition/?snr=1_7_7_151_150_1\n",
      "https://store.steampowered.com/bundle/32502/Friends_vs_Friends_Deluxe_Edition/?snr=1_7_7_151_150_1\n",
      "https://store.steampowered.com/app/1203620/Enshrouded/?snr=1_7_7_151_150_1\n",
      "https://store.steampowered.com/app/1248130/Farming_Simulator_22/?snr=1_7_7_151_150_1\n",
      "https://store.steampowered.com/app/1326470/Sons_Of_The_Forest/?snr=1_7_7_151_150_1\n",
      "https://store.steampowered.com/app/2464010/Friends_vs_Friends_Babas_Laundromat/?snr=1_7_7_151_150_1\n",
      "https://store.steampowered.com/app/1392860/3/?snr=1_7_7_151_150_1\n",
      "https://store.steampowered.com/app/1142710/Total_War_WARHAMMER_III/?snr=1_7_7_151_150_1\n",
      "https://store.steampowered.com/app/2317820/Feudal_Friends/?snr=1_7_7_151_150_1\n",
      "https://store.steampowered.com/app/686810/_/?snr=1_7_7_151_150_1\n",
      "https://store.steampowered.com/app/221100/DayZ/?snr=1_7_7_151_150_1\n",
      "https://store.steampowered.com/app/2378500/Baldurs_Gate_3__Digital_Deluxe_Edition_DLC/?snr=1_7_7_151_150_1\n",
      "https://store.steampowered.com/app/671860/BattleBit_Remastered/?snr=1_7_7_151_150_1\n",
      "https://store.steampowered.com/app/2172900/_/?snr=1_7_7_151_150_1\n",
      "https://store.steampowered.com/app/1551360/_5/?snr=1_7_7_151_150_1\n",
      "https://store.steampowered.com/app/708300/Fluffy_Friends/?snr=1_7_7_151_150_1\n",
      "https://store.steampowered.com/app/2445730/Friends_vs_Friends_Soundtrack/?snr=1_7_7_151_150_1\n",
      "https://store.steampowered.com/app/648800/Raft/?snr=1_7_7_151_150_1\n",
      "https://store.steampowered.com/app/1144200/Ready_or_Not/?snr=1_7_7_151_150_1\n",
      "https://store.steampowered.com/app/552990/World_of_Warships/?snr=1_7_7_151_150_1\n",
      "https://store.steampowered.com/app/346110/ARK_Survival_Evolved/?snr=1_7_7_151_150_1\n",
      "https://store.steampowered.com/app/1062090/_Timberborn/?snr=1_7_7_151_150_1\n",
      "https://store.steampowered.com/app/2285150/The_Front/?snr=1_7_7_151_150_1\n",
      "https://store.steampowered.com/app/244210/_Assetto_Corsa/?snr=1_7_7_151_150_1\n",
      "https://store.steampowered.com/app/963060/MUSYNX__Forever_Friends/?snr=1_7_7_151_150_1\n",
      "https://store.steampowered.com/app/518790/_/?snr=1_7_7_151_150_1\n",
      "https://store.steampowered.com/app/2231380/Tom_Clancys_Ghost_Recon_Breakpoint/?snr=1_7_7_151_150_1\n",
      "https://store.steampowered.com/app/846110/The_friends_of_Ringo_Ishikawa/?snr=1_7_7_151_150_1\n",
      "https://store.steampowered.com/app/444200/_/?snr=1_7_7_151_150_1\n",
      "https://store.steampowered.com/app/2522520/Only_Up_With_Friends/?snr=1_7_7_151_150_1\n",
      "https://store.steampowered.com/app/667750/Indie_Friends_Pack/?snr=1_7_7_151_150_1\n"
     ]
    }
   ],
   "source": [
    "import csv\n",
    "with open('onlylinks.csv', 'w', newline='') as csvfile: \n",
    "    writer = csv.writer(csvfile) \n",
    "    for game_link in game_links:\n",
    "        print(game_link)\n",
    "        writer.writerow([game_link])"
   ]
  },
  {
   "cell_type": "code",
   "execution_count": 40,
   "id": "cd3976d9",
   "metadata": {},
   "outputs": [
    {
     "name": "stdout",
     "output_type": "stream",
     "text": [
      "https://store.steampowered.com/app/1785150/Friends_vs_Friends/?snr=1_7_7_151_150_1\n",
      "None\n"
     ]
    },
    {
     "ename": "MissingSchema",
     "evalue": "Invalid URL 'None': No scheme supplied. Perhaps you meant https://None?",
     "output_type": "error",
     "traceback": [
      "\u001b[1;31m---------------------------------------------------------------------------\u001b[0m",
      "\u001b[1;31mMissingSchema\u001b[0m                             Traceback (most recent call last)",
      "Cell \u001b[1;32mIn[40], line 24\u001b[0m\n\u001b[0;32m     21\u001b[0m \u001b[38;5;28mprint\u001b[39m(imglink)\n\u001b[0;32m     22\u001b[0m i \u001b[38;5;241m+\u001b[39m\u001b[38;5;241m=\u001b[39m \u001b[38;5;241m1\u001b[39m    \n\u001b[1;32m---> 24\u001b[0m response \u001b[38;5;241m=\u001b[39m \u001b[43mrequests\u001b[49m\u001b[38;5;241;43m.\u001b[39;49m\u001b[43mget\u001b[49m\u001b[43m(\u001b[49m\u001b[43mimglink\u001b[49m\u001b[43m)\u001b[49m\n\u001b[0;32m     25\u001b[0m \u001b[38;5;66;03m#name the images\u001b[39;00m\n\u001b[0;32m     26\u001b[0m imagename\u001b[38;5;241m=\u001b[39m\u001b[38;5;124m\"\u001b[39m\u001b[38;5;124mimage\u001b[39m\u001b[38;5;124m\"\u001b[39m \u001b[38;5;241m+\u001b[39m \u001b[38;5;28mstr\u001b[39m(i)\u001b[38;5;241m+\u001b[39m\u001b[38;5;124m\"\u001b[39m\u001b[38;5;124m.jpg\u001b[39m\u001b[38;5;124m\"\u001b[39m\n",
      "File \u001b[1;32mC:\\ProgramData\\anaconda3\\envs\\py38\\lib\\site-packages\\requests\\api.py:73\u001b[0m, in \u001b[0;36mget\u001b[1;34m(url, params, **kwargs)\u001b[0m\n\u001b[0;32m     62\u001b[0m \u001b[38;5;28;01mdef\u001b[39;00m \u001b[38;5;21mget\u001b[39m(url, params\u001b[38;5;241m=\u001b[39m\u001b[38;5;28;01mNone\u001b[39;00m, \u001b[38;5;241m*\u001b[39m\u001b[38;5;241m*\u001b[39mkwargs):\n\u001b[0;32m     63\u001b[0m \u001b[38;5;250m    \u001b[39m\u001b[38;5;124mr\u001b[39m\u001b[38;5;124;03m\"\"\"Sends a GET request.\u001b[39;00m\n\u001b[0;32m     64\u001b[0m \n\u001b[0;32m     65\u001b[0m \u001b[38;5;124;03m    :param url: URL for the new :class:`Request` object.\u001b[39;00m\n\u001b[1;32m   (...)\u001b[0m\n\u001b[0;32m     70\u001b[0m \u001b[38;5;124;03m    :rtype: requests.Response\u001b[39;00m\n\u001b[0;32m     71\u001b[0m \u001b[38;5;124;03m    \"\"\"\u001b[39;00m\n\u001b[1;32m---> 73\u001b[0m     \u001b[38;5;28;01mreturn\u001b[39;00m \u001b[43mrequest\u001b[49m\u001b[43m(\u001b[49m\u001b[38;5;124;43m\"\u001b[39;49m\u001b[38;5;124;43mget\u001b[39;49m\u001b[38;5;124;43m\"\u001b[39;49m\u001b[43m,\u001b[49m\u001b[43m \u001b[49m\u001b[43murl\u001b[49m\u001b[43m,\u001b[49m\u001b[43m \u001b[49m\u001b[43mparams\u001b[49m\u001b[38;5;241;43m=\u001b[39;49m\u001b[43mparams\u001b[49m\u001b[43m,\u001b[49m\u001b[43m \u001b[49m\u001b[38;5;241;43m*\u001b[39;49m\u001b[38;5;241;43m*\u001b[39;49m\u001b[43mkwargs\u001b[49m\u001b[43m)\u001b[49m\n",
      "File \u001b[1;32mC:\\ProgramData\\anaconda3\\envs\\py38\\lib\\site-packages\\requests\\api.py:59\u001b[0m, in \u001b[0;36mrequest\u001b[1;34m(method, url, **kwargs)\u001b[0m\n\u001b[0;32m     55\u001b[0m \u001b[38;5;66;03m# By using the 'with' statement we are sure the session is closed, thus we\u001b[39;00m\n\u001b[0;32m     56\u001b[0m \u001b[38;5;66;03m# avoid leaving sockets open which can trigger a ResourceWarning in some\u001b[39;00m\n\u001b[0;32m     57\u001b[0m \u001b[38;5;66;03m# cases, and look like a memory leak in others.\u001b[39;00m\n\u001b[0;32m     58\u001b[0m \u001b[38;5;28;01mwith\u001b[39;00m sessions\u001b[38;5;241m.\u001b[39mSession() \u001b[38;5;28;01mas\u001b[39;00m session:\n\u001b[1;32m---> 59\u001b[0m     \u001b[38;5;28;01mreturn\u001b[39;00m \u001b[43msession\u001b[49m\u001b[38;5;241;43m.\u001b[39;49m\u001b[43mrequest\u001b[49m\u001b[43m(\u001b[49m\u001b[43mmethod\u001b[49m\u001b[38;5;241;43m=\u001b[39;49m\u001b[43mmethod\u001b[49m\u001b[43m,\u001b[49m\u001b[43m \u001b[49m\u001b[43murl\u001b[49m\u001b[38;5;241;43m=\u001b[39;49m\u001b[43murl\u001b[49m\u001b[43m,\u001b[49m\u001b[43m \u001b[49m\u001b[38;5;241;43m*\u001b[39;49m\u001b[38;5;241;43m*\u001b[39;49m\u001b[43mkwargs\u001b[49m\u001b[43m)\u001b[49m\n",
      "File \u001b[1;32mC:\\ProgramData\\anaconda3\\envs\\py38\\lib\\site-packages\\requests\\sessions.py:575\u001b[0m, in \u001b[0;36mSession.request\u001b[1;34m(self, method, url, params, data, headers, cookies, files, auth, timeout, allow_redirects, proxies, hooks, stream, verify, cert, json)\u001b[0m\n\u001b[0;32m    562\u001b[0m \u001b[38;5;66;03m# Create the Request.\u001b[39;00m\n\u001b[0;32m    563\u001b[0m req \u001b[38;5;241m=\u001b[39m Request(\n\u001b[0;32m    564\u001b[0m     method\u001b[38;5;241m=\u001b[39mmethod\u001b[38;5;241m.\u001b[39mupper(),\n\u001b[0;32m    565\u001b[0m     url\u001b[38;5;241m=\u001b[39murl,\n\u001b[1;32m   (...)\u001b[0m\n\u001b[0;32m    573\u001b[0m     hooks\u001b[38;5;241m=\u001b[39mhooks,\n\u001b[0;32m    574\u001b[0m )\n\u001b[1;32m--> 575\u001b[0m prep \u001b[38;5;241m=\u001b[39m \u001b[38;5;28;43mself\u001b[39;49m\u001b[38;5;241;43m.\u001b[39;49m\u001b[43mprepare_request\u001b[49m\u001b[43m(\u001b[49m\u001b[43mreq\u001b[49m\u001b[43m)\u001b[49m\n\u001b[0;32m    577\u001b[0m proxies \u001b[38;5;241m=\u001b[39m proxies \u001b[38;5;129;01mor\u001b[39;00m {}\n\u001b[0;32m    579\u001b[0m settings \u001b[38;5;241m=\u001b[39m \u001b[38;5;28mself\u001b[39m\u001b[38;5;241m.\u001b[39mmerge_environment_settings(\n\u001b[0;32m    580\u001b[0m     prep\u001b[38;5;241m.\u001b[39murl, proxies, stream, verify, cert\n\u001b[0;32m    581\u001b[0m )\n",
      "File \u001b[1;32mC:\\ProgramData\\anaconda3\\envs\\py38\\lib\\site-packages\\requests\\sessions.py:486\u001b[0m, in \u001b[0;36mSession.prepare_request\u001b[1;34m(self, request)\u001b[0m\n\u001b[0;32m    483\u001b[0m     auth \u001b[38;5;241m=\u001b[39m get_netrc_auth(request\u001b[38;5;241m.\u001b[39murl)\n\u001b[0;32m    485\u001b[0m p \u001b[38;5;241m=\u001b[39m PreparedRequest()\n\u001b[1;32m--> 486\u001b[0m \u001b[43mp\u001b[49m\u001b[38;5;241;43m.\u001b[39;49m\u001b[43mprepare\u001b[49m\u001b[43m(\u001b[49m\n\u001b[0;32m    487\u001b[0m \u001b[43m    \u001b[49m\u001b[43mmethod\u001b[49m\u001b[38;5;241;43m=\u001b[39;49m\u001b[43mrequest\u001b[49m\u001b[38;5;241;43m.\u001b[39;49m\u001b[43mmethod\u001b[49m\u001b[38;5;241;43m.\u001b[39;49m\u001b[43mupper\u001b[49m\u001b[43m(\u001b[49m\u001b[43m)\u001b[49m\u001b[43m,\u001b[49m\n\u001b[0;32m    488\u001b[0m \u001b[43m    \u001b[49m\u001b[43murl\u001b[49m\u001b[38;5;241;43m=\u001b[39;49m\u001b[43mrequest\u001b[49m\u001b[38;5;241;43m.\u001b[39;49m\u001b[43murl\u001b[49m\u001b[43m,\u001b[49m\n\u001b[0;32m    489\u001b[0m \u001b[43m    \u001b[49m\u001b[43mfiles\u001b[49m\u001b[38;5;241;43m=\u001b[39;49m\u001b[43mrequest\u001b[49m\u001b[38;5;241;43m.\u001b[39;49m\u001b[43mfiles\u001b[49m\u001b[43m,\u001b[49m\n\u001b[0;32m    490\u001b[0m \u001b[43m    \u001b[49m\u001b[43mdata\u001b[49m\u001b[38;5;241;43m=\u001b[39;49m\u001b[43mrequest\u001b[49m\u001b[38;5;241;43m.\u001b[39;49m\u001b[43mdata\u001b[49m\u001b[43m,\u001b[49m\n\u001b[0;32m    491\u001b[0m \u001b[43m    \u001b[49m\u001b[43mjson\u001b[49m\u001b[38;5;241;43m=\u001b[39;49m\u001b[43mrequest\u001b[49m\u001b[38;5;241;43m.\u001b[39;49m\u001b[43mjson\u001b[49m\u001b[43m,\u001b[49m\n\u001b[0;32m    492\u001b[0m \u001b[43m    \u001b[49m\u001b[43mheaders\u001b[49m\u001b[38;5;241;43m=\u001b[39;49m\u001b[43mmerge_setting\u001b[49m\u001b[43m(\u001b[49m\n\u001b[0;32m    493\u001b[0m \u001b[43m        \u001b[49m\u001b[43mrequest\u001b[49m\u001b[38;5;241;43m.\u001b[39;49m\u001b[43mheaders\u001b[49m\u001b[43m,\u001b[49m\u001b[43m \u001b[49m\u001b[38;5;28;43mself\u001b[39;49m\u001b[38;5;241;43m.\u001b[39;49m\u001b[43mheaders\u001b[49m\u001b[43m,\u001b[49m\u001b[43m \u001b[49m\u001b[43mdict_class\u001b[49m\u001b[38;5;241;43m=\u001b[39;49m\u001b[43mCaseInsensitiveDict\u001b[49m\n\u001b[0;32m    494\u001b[0m \u001b[43m    \u001b[49m\u001b[43m)\u001b[49m\u001b[43m,\u001b[49m\n\u001b[0;32m    495\u001b[0m \u001b[43m    \u001b[49m\u001b[43mparams\u001b[49m\u001b[38;5;241;43m=\u001b[39;49m\u001b[43mmerge_setting\u001b[49m\u001b[43m(\u001b[49m\u001b[43mrequest\u001b[49m\u001b[38;5;241;43m.\u001b[39;49m\u001b[43mparams\u001b[49m\u001b[43m,\u001b[49m\u001b[43m \u001b[49m\u001b[38;5;28;43mself\u001b[39;49m\u001b[38;5;241;43m.\u001b[39;49m\u001b[43mparams\u001b[49m\u001b[43m)\u001b[49m\u001b[43m,\u001b[49m\n\u001b[0;32m    496\u001b[0m \u001b[43m    \u001b[49m\u001b[43mauth\u001b[49m\u001b[38;5;241;43m=\u001b[39;49m\u001b[43mmerge_setting\u001b[49m\u001b[43m(\u001b[49m\u001b[43mauth\u001b[49m\u001b[43m,\u001b[49m\u001b[43m \u001b[49m\u001b[38;5;28;43mself\u001b[39;49m\u001b[38;5;241;43m.\u001b[39;49m\u001b[43mauth\u001b[49m\u001b[43m)\u001b[49m\u001b[43m,\u001b[49m\n\u001b[0;32m    497\u001b[0m \u001b[43m    \u001b[49m\u001b[43mcookies\u001b[49m\u001b[38;5;241;43m=\u001b[39;49m\u001b[43mmerged_cookies\u001b[49m\u001b[43m,\u001b[49m\n\u001b[0;32m    498\u001b[0m \u001b[43m    \u001b[49m\u001b[43mhooks\u001b[49m\u001b[38;5;241;43m=\u001b[39;49m\u001b[43mmerge_hooks\u001b[49m\u001b[43m(\u001b[49m\u001b[43mrequest\u001b[49m\u001b[38;5;241;43m.\u001b[39;49m\u001b[43mhooks\u001b[49m\u001b[43m,\u001b[49m\u001b[43m \u001b[49m\u001b[38;5;28;43mself\u001b[39;49m\u001b[38;5;241;43m.\u001b[39;49m\u001b[43mhooks\u001b[49m\u001b[43m)\u001b[49m\u001b[43m,\u001b[49m\n\u001b[0;32m    499\u001b[0m \u001b[43m\u001b[49m\u001b[43m)\u001b[49m\n\u001b[0;32m    500\u001b[0m \u001b[38;5;28;01mreturn\u001b[39;00m p\n",
      "File \u001b[1;32mC:\\ProgramData\\anaconda3\\envs\\py38\\lib\\site-packages\\requests\\models.py:368\u001b[0m, in \u001b[0;36mPreparedRequest.prepare\u001b[1;34m(self, method, url, headers, files, data, params, auth, cookies, hooks, json)\u001b[0m\n\u001b[0;32m    365\u001b[0m \u001b[38;5;250m\u001b[39m\u001b[38;5;124;03m\"\"\"Prepares the entire request with the given parameters.\"\"\"\u001b[39;00m\n\u001b[0;32m    367\u001b[0m \u001b[38;5;28mself\u001b[39m\u001b[38;5;241m.\u001b[39mprepare_method(method)\n\u001b[1;32m--> 368\u001b[0m \u001b[38;5;28;43mself\u001b[39;49m\u001b[38;5;241;43m.\u001b[39;49m\u001b[43mprepare_url\u001b[49m\u001b[43m(\u001b[49m\u001b[43murl\u001b[49m\u001b[43m,\u001b[49m\u001b[43m \u001b[49m\u001b[43mparams\u001b[49m\u001b[43m)\u001b[49m\n\u001b[0;32m    369\u001b[0m \u001b[38;5;28mself\u001b[39m\u001b[38;5;241m.\u001b[39mprepare_headers(headers)\n\u001b[0;32m    370\u001b[0m \u001b[38;5;28mself\u001b[39m\u001b[38;5;241m.\u001b[39mprepare_cookies(cookies)\n",
      "File \u001b[1;32mC:\\ProgramData\\anaconda3\\envs\\py38\\lib\\site-packages\\requests\\models.py:439\u001b[0m, in \u001b[0;36mPreparedRequest.prepare_url\u001b[1;34m(self, url, params)\u001b[0m\n\u001b[0;32m    436\u001b[0m     \u001b[38;5;28;01mraise\u001b[39;00m InvalidURL(\u001b[38;5;241m*\u001b[39me\u001b[38;5;241m.\u001b[39margs)\n\u001b[0;32m    438\u001b[0m \u001b[38;5;28;01mif\u001b[39;00m \u001b[38;5;129;01mnot\u001b[39;00m scheme:\n\u001b[1;32m--> 439\u001b[0m     \u001b[38;5;28;01mraise\u001b[39;00m MissingSchema(\n\u001b[0;32m    440\u001b[0m         \u001b[38;5;124mf\u001b[39m\u001b[38;5;124m\"\u001b[39m\u001b[38;5;124mInvalid URL \u001b[39m\u001b[38;5;132;01m{\u001b[39;00murl\u001b[38;5;132;01m!r}\u001b[39;00m\u001b[38;5;124m: No scheme supplied. \u001b[39m\u001b[38;5;124m\"\u001b[39m\n\u001b[0;32m    441\u001b[0m         \u001b[38;5;124mf\u001b[39m\u001b[38;5;124m\"\u001b[39m\u001b[38;5;124mPerhaps you meant https://\u001b[39m\u001b[38;5;132;01m{\u001b[39;00murl\u001b[38;5;132;01m}\u001b[39;00m\u001b[38;5;124m?\u001b[39m\u001b[38;5;124m\"\u001b[39m\n\u001b[0;32m    442\u001b[0m     )\n\u001b[0;32m    444\u001b[0m \u001b[38;5;28;01mif\u001b[39;00m \u001b[38;5;129;01mnot\u001b[39;00m host:\n\u001b[0;32m    445\u001b[0m     \u001b[38;5;28;01mraise\u001b[39;00m InvalidURL(\u001b[38;5;124mf\u001b[39m\u001b[38;5;124m\"\u001b[39m\u001b[38;5;124mInvalid URL \u001b[39m\u001b[38;5;132;01m{\u001b[39;00murl\u001b[38;5;132;01m!r}\u001b[39;00m\u001b[38;5;124m: No host supplied\u001b[39m\u001b[38;5;124m\"\u001b[39m)\n",
      "\u001b[1;31mMissingSchema\u001b[0m: Invalid URL 'None': No scheme supplied. Perhaps you meant https://None?"
     ]
    }
   ],
   "source": [
    "driver = webdriver.Chrome()\n",
    "\n",
    "i=0\n",
    "\n",
    "#read the produced csv and iterate through the list\n",
    "with open(\"onlylinks.csv\", 'r',encoding='utf-8') as file:\n",
    "    csvreader = csv.reader(file)    \n",
    "    for url in csvreader:       \n",
    "                \n",
    "        #open each link \n",
    "        driver.get(url[0])\n",
    "        print(url[0])\n",
    "        sleep(6)\n",
    "        \n",
    "        #find the image link\n",
    "        imglink_element = driver.find_element(\"xpath\", \"//*[@id='highlight_screenshot_ss_b4862d9ad34cd7a4de2cd2f6bd53b5587f8457a1.jpg']/div/a/img\")\n",
    "        imglink = imglink_element.get_attribute('href')\n",
    "\n",
    "        \n",
    "        \n",
    "        print(imglink)\n",
    "        i += 1    \n",
    "        \n",
    "        response = requests.get(imglink)\n",
    "        #name the images\n",
    "        imagename=\"image\" + str(i)+\".jpg\"\n",
    "        #save the images\n",
    "        with open(imagename, \"wb\") as f:\n",
    "            f.write(response.content)\n",
    "       \n",
    "    \n",
    "#Close the webpage\n",
    "driver.quit()"
   ]
  },
  {
   "cell_type": "code",
   "execution_count": null,
   "id": "e6fd694f",
   "metadata": {},
   "outputs": [],
   "source": []
  },
  {
   "cell_type": "code",
   "execution_count": null,
   "id": "5605e631",
   "metadata": {},
   "outputs": [],
   "source": [
    "\n",
    "    "
   ]
  },
  {
   "cell_type": "code",
   "execution_count": null,
   "id": "999223dc",
   "metadata": {},
   "outputs": [],
   "source": []
  },
  {
   "cell_type": "code",
   "execution_count": null,
   "id": "fbfb0995",
   "metadata": {},
   "outputs": [],
   "source": []
  }
 ],
 "metadata": {
  "kernelspec": {
   "display_name": "Python 3 (ipykernel)",
   "language": "python",
   "name": "python3"
  },
  "language_info": {
   "codemirror_mode": {
    "name": "ipython",
    "version": 3
   },
   "file_extension": ".py",
   "mimetype": "text/x-python",
   "name": "python",
   "nbconvert_exporter": "python",
   "pygments_lexer": "ipython3",
   "version": "3.8.18"
  }
 },
 "nbformat": 4,
 "nbformat_minor": 5
}
